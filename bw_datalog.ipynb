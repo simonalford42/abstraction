{
 "cells": [
  {
   "cell_type": "code",
   "execution_count": 1,
   "metadata": {},
   "outputs": [],
   "source": [
    "import box_world as bw\n",
    "import data\n",
    "from pyDatalog import pyDatalog as pyd\n",
    "from utils import assert_equal"
   ]
  },
  {
   "cell_type": "code",
   "execution_count": 44,
   "metadata": {},
   "outputs": [
    {
     "name": "stdout",
     "output_type": "stream",
     "text": [
      "X\n",
      "-\n",
      "A\n",
      "B\n"
     ]
    }
   ],
   "source": [
    "pyd.clear()\n",
    "pyd.create_terms('action', 'held_key', 'domino', 'neg_held_key', 'neg_domino')\n",
    "pyd.create_terms('X', 'Y')\n",
    "+ domino('A', 'B')\n",
    "+ domino('B', 'C')\n",
    "held_key(Y) <= held_key(X) & domino(X, Y) & action(Y)\n",
    "neg_held_key(X) <= held_key(X) & domino(X, Y) & action(Y)\n",
    "+ held_key('A')\n",
    "+ action('B')\n",
    "print(held_key(X))\n",
    "\n"
   ]
  },
  {
   "cell_type": "code",
   "execution_count": 2,
   "metadata": {},
   "outputs": [],
   "source": [
    "env = bw.BoxWorldEnv(seed=1)"
   ]
  },
  {
   "cell_type": "code",
   "execution_count": 3,
   "metadata": {},
   "outputs": [],
   "source": [
    "traj = bw.generate_traj(env)"
   ]
  },
  {
   "cell_type": "code",
   "execution_count": 4,
   "metadata": {},
   "outputs": [],
   "source": [
    "obs = traj[0][0]"
   ]
  },
  {
   "cell_type": "code",
   "execution_count": 5,
   "metadata": {},
   "outputs": [],
   "source": [
    "tens = data.obs_to_tensor(obs)"
   ]
  },
  {
   "cell_type": "code",
   "execution_count": 6,
   "metadata": {},
   "outputs": [],
   "source": [
    "def abstractify(obs):\n",
    "    dominoes = bw.get_dominoes(obs)\n",
    "    held_key = bw.get_held_key(obs)\n",
    "    return [held_key] + sorted([s.upper() for s in dominoes.keys()], key=lambda s: (len(s), s))"
   ]
  },
  {
   "cell_type": "code",
   "execution_count": 7,
   "metadata": {},
   "outputs": [],
   "source": [
    "%matplotlib inline"
   ]
  },
  {
   "cell_type": "code",
   "execution_count": 8,
   "metadata": {},
   "outputs": [
    {
     "data": {
      "image/png": "[encoded data removed]",
      "text/plain": [
       "<Figure size 432x288 with 1 Axes>"
      ]
     },
     "metadata": {
      "needs_background": "light"
     },
     "output_type": "display_data"
    }
   ],
   "source": [
    "bw.render_obs(obs)"
   ]
  },
  {
   "cell_type": "code",
   "execution_count": 9,
   "metadata": {},
   "outputs": [
    {
     "name": "stdout",
     "output_type": "stream",
     "text": [
      "[None, '.', 'T', '*Q', 'ET', 'IQ', 'PT', 'QT']\n"
     ]
    }
   ],
   "source": [
    "abs_obs = abstractify(obs)\n",
    "print(abs_obs)"
   ]
  },
  {
   "cell_type": "code",
   "execution_count": 10,
   "metadata": {},
   "outputs": [],
   "source": [
    "def transition(abs_obs, abs_action):\n",
    "    '''\n",
    "    abs_obs: list of strings\n",
    "    abs_action: a single letter of the color key we want to move to\n",
    "    returns a new abs_obs.\n",
    "    '''\n",
    "    held_key = abs_obs[0]\n",
    "    assert '.' == abs_obs[1]\n",
    "    targets = [x for x in abs_obs[1:] if x[0] == abs_action]\n",
    "    assert len(targets) == 1\n",
    "    target = targets[0]\n",
    "    new_dominoes = abs_obs[1:]\n",
    "    if len(target) == 1:\n",
    "        # open key\n",
    "        new_held_key = target\n",
    "        new_dominoes.remove(target)\n",
    "    else:\n",
    "        if held_key == target[1]:\n",
    "            new_held_key = target[0]\n",
    "            new_dominoes.remove(target)\n",
    "        else:\n",
    "            new_held_key = held_key\n",
    "    \n",
    "    new_abs_obs = [new_held_key] + new_dominoes\n",
    "    return new_abs_obs"
   ]
  },
  {
   "cell_type": "code",
   "execution_count": 11,
   "metadata": {},
   "outputs": [
    {
     "name": "stdout",
     "output_type": "stream",
     "text": [
      "['T', '.', '*Q', 'ET', 'IQ', 'PT', 'QT']\n",
      "['E', '.', '*Q', 'IQ', 'PT', 'QT']\n"
     ]
    }
   ],
   "source": [
    "abs_obs2 = transition(abs_obs, 'T');\n",
    "print(abs_obs2)\n",
    "\n",
    "abs_obs3 = transition(abs_obs2, 'E')\n",
    "print(abs_obs3)"
   ]
  },
  {
   "cell_type": "code",
   "execution_count": 53,
   "metadata": {},
   "outputs": [],
   "source": [
    "def abstractify_datalog(obs):\n",
    "    dominoes = list(bw.get_dominoes(obs).keys())\n",
    "    dominoes = [d.lower()[::-1] for d in dominoes]\n",
    "    print(dominoes)\n",
    "    held_key = bw.get_held_key(obs)\n",
    "\n",
    "    # the agent\n",
    "    dominoes.remove('.')\n",
    "    # sort dominoes by length, then alphabetically\n",
    "    dominoes = sorted(dominoes, key=lambda s: (len(s), s)) \n",
    "    # if there's an open key, treat it as a held key\n",
    "    if len(dominoes) > 0 and len(dominoes[0]) == 1:\n",
    "        assert held_key is None\n",
    "        held_key = dominoes[0]\n",
    "        dominoes = dominoes[1:]\n",
    "\n",
    "    # map each domino from e.g. 'AB' to ('A', 'B')\n",
    "    dominoes = [tuple(domino) for domino in dominoes]\n",
    "    \n",
    "    if held_key is None:\n",
    "        held_keys = []\n",
    "    else:\n",
    "        held_keys = [(held_key,)]\n",
    "\n",
    "    out = {}\n",
    "    if held_keys:\n",
    "        out['held_key'] = held_keys\n",
    "    if dominoes:\n",
    "        out['domino'] = dominoes\n",
    "    return out"
   ]
  },
  {
   "cell_type": "code",
   "execution_count": 54,
   "metadata": {},
   "outputs": [
    {
     "name": "stdout",
     "output_type": "stream",
     "text": [
      "['.', 'tq', 'tp', 'te', 't', 'qi', 'q*']\n"
     ]
    },
    {
     "data": {
      "text/plain": [
       "{'held_key': [('t',)],\n",
       " 'domino': [('q', '*'), ('q', 'i'), ('t', 'e'), ('t', 'p'), ('t', 'q')]}"
      ]
     },
     "execution_count": 54,
     "metadata": {},
     "output_type": "execute_result"
    }
   ],
   "source": [
    "abstractify_datalog(obs)"
   ]
  },
  {
   "cell_type": "code",
   "execution_count": 55,
   "metadata": {},
   "outputs": [],
   "source": [
    "def get_post_transition_facts():\n",
    "    \"\"\"\n",
    "    returns dict of facts. key is the predicate and values are list of arg tuples\n",
    "    \"\"\"\n",
    "    all_facts = {}\n",
    "    # action facts don't get passed on\n",
    "    for predicate in [held_key, domino, neg_held_key, neg_domino]:\n",
    "        for arity in [1, 2]:\n",
    "            try:\n",
    "                args = [X, Y] if arity == 2 else [X]\n",
    "                facts = predicate(*args).ask()\n",
    "                all_facts[str(predicate)] = facts\n",
    "            except AttributeError:\n",
    "                pass\n",
    "    \n",
    "    neg_pairs = [('neg_held_key', 'held_key'),\n",
    "                  ('neg_domino', 'domino')]\n",
    "    for neg_predicate, predicate in neg_pairs:\n",
    "        if neg_predicate in all_facts:\n",
    "            for args in all_facts[neg_predicate]:\n",
    "                if args in all_facts[predicate]:\n",
    "                    print(f'removing fact {predicate}({args})')\n",
    "                    all_facts[predicate].remove(args)\n",
    "                    if len(all_facts[predicate]) == 0:\n",
    "                        del all_facts[predicate]\n",
    "            del all_facts[neg_predicate]\n",
    "                    \n",
    "    return all_facts\n",
    "\n",
    "def transition_datalog(abs_obs: dict[str, list[tuple[str, str]]], abs_action: tuple[str]):\n",
    "    '''\n",
    "    abs_obs: dict of facts, {'predicate': [args]}\n",
    "    abs_action: a tuple of args for the built-in 'action' predicate\n",
    "    returns a new abs_obs.\n",
    "    '''\n",
    "    pyd.clear()\n",
    "    pyd.create_terms('X', 'Y', 'held_key', 'domino', 'action', 'neg_held_key', 'neg_domino')\n",
    "    + action(*abs_action)\n",
    "    if 'held_key' in abs_obs:\n",
    "        for args in abs_obs['held_key']:\n",
    "            + held_key(*args)\n",
    "    if 'domino' in abs_obs:\n",
    "        for args in abs_obs['domino']:\n",
    "            + domino(*args)\n",
    "            \n",
    "    held_key(Y) <= held_key(X) & domino(X, Y) & action(Y)\n",
    "    neg_held_key(X) <= held_key(X) & domino(X, Y) & action(Y)\n",
    "    neg_domino(X, Y) <= held_key(X) & domino(X, Y) & action(Y)\n",
    "    \n",
    "    return get_post_transition_facts()"
   ]
  },
  {
   "cell_type": "code",
   "execution_count": 66,
   "metadata": {},
   "outputs": [
    {
     "name": "stdout",
     "output_type": "stream",
     "text": [
      "[0, 0, 0, 2, 2, 2, 2, 2, 3, 3, 3, 3, 3, 0, 2, 2, 2, 2, 2, 2, 2, 2]\n",
      "['l*', 'nl', 'n', '.']\n",
      "['l*', 'nl', 'n', '.']\n",
      "['l*', 'nl', 'n', '.']\n",
      "['l*', 'nl', 'n', '.']\n",
      "['l*', 'nl', 'n', '.']\n",
      "['l*', 'nl', 'n', '.']\n",
      "['l*', 'nl', 'n', '.']\n",
      "['l*', 'nl', 'n', '.']\n",
      "['l*', 'nl', '.']\n",
      "['l*', 'nl', '.']\n",
      "['l*', 'nl', '.']\n",
      "['l*', 'nl', '.']\n",
      "['l*', 'nl', '.']\n",
      "['l*', 'nl', '.']\n",
      "['l*', 'l', '.']\n",
      "['l*', '.']\n",
      "['l*', '.']\n",
      "['l*', '.']\n",
      "['l*', '.']\n",
      "['l*', '.']\n",
      "['l*', '.']\n",
      "['*', '.']\n",
      "['.']\n",
      "[{'held_key': [('n',)], 'domino': [('l', '*'), ('n', 'l')]}, {'held_key': [('n',)], 'domino': [('l', '*'), ('n', 'l')]}, {'held_key': [('n',)], 'domino': [('l', '*'), ('n', 'l')]}, {'held_key': [('n',)], 'domino': [('l', '*'), ('n', 'l')]}, {'held_key': [('n',)], 'domino': [('l', '*'), ('n', 'l')]}, {'held_key': [('n',)], 'domino': [('l', '*'), ('n', 'l')]}, {'held_key': [('n',)], 'domino': [('l', '*'), ('n', 'l')]}, {'held_key': [('n',)], 'domino': [('l', '*'), ('n', 'l')]}, {'held_key': [('n',)], 'domino': [('l', '*'), ('n', 'l')]}, {'held_key': [('n',)], 'domino': [('l', '*'), ('n', 'l')]}, {'held_key': [('n',)], 'domino': [('l', '*'), ('n', 'l')]}, {'held_key': [('n',)], 'domino': [('l', '*'), ('n', 'l')]}, {'held_key': [('n',)], 'domino': [('l', '*'), ('n', 'l')]}, {'held_key': [('n',)], 'domino': [('l', '*'), ('n', 'l')]}, {'held_key': [('l',)], 'domino': [('l', '*')]}, {'held_key': [('l',)], 'domino': [('l', '*')]}, {'held_key': [('l',)], 'domino': [('l', '*')]}, {'held_key': [('l',)], 'domino': [('l', '*')]}, {'held_key': [('l',)], 'domino': [('l', '*')]}, {'held_key': [('l',)], 'domino': [('l', '*')]}, {'held_key': [('l',)], 'domino': [('l', '*')]}, {'held_key': [('*',)]}, {}]\n"
     ]
    },
    {
     "ename": "TypeError",
     "evalue": "'int' object is not subscriptable",
     "output_type": "error",
     "traceback": [
      "\u001b[0;31m---------------------------------------------------------------------------\u001b[0m",
      "\u001b[0;31mTypeError\u001b[0m                                 Traceback (most recent call last)",
      "\u001b[1;32m/Users/simon/Code/abstraction/bw_datalog.ipynb Cell 16'\u001b[0m in \u001b[0;36m<cell line: 7>\u001b[0;34m()\u001b[0m\n\u001b[1;32m      <a href='vscode-notebook-cell:/Users/simon/Code/abstraction/bw_datalog.ipynb#ch0000014?line=1'>2</a>\u001b[0m \u001b[39m# trajs = [bw.generate_traj(env) for _ in range(10)]\u001b[39;00m\n\u001b[1;32m      <a href='vscode-notebook-cell:/Users/simon/Code/abstraction/bw_datalog.ipynb#ch0000014?line=2'>3</a>\u001b[0m \u001b[39m# for traj in trajs:\u001b[39;00m\n\u001b[1;32m      <a href='vscode-notebook-cell:/Users/simon/Code/abstraction/bw_datalog.ipynb#ch0000014?line=3'>4</a>\u001b[0m     \u001b[39m# states, moves = traj\u001b[39;00m\n\u001b[1;32m      <a href='vscode-notebook-cell:/Users/simon/Code/abstraction/bw_datalog.ipynb#ch0000014?line=4'>5</a>\u001b[0m     \u001b[39m# check_traj(states, moves)\u001b[39;00m\n\u001b[1;32m      <a href='vscode-notebook-cell:/Users/simon/Code/abstraction/bw_datalog.ipynb#ch0000014?line=5'>6</a>\u001b[0m states, moves \u001b[39m=\u001b[39m bw\u001b[39m.\u001b[39mgenerate_traj(env)\n\u001b[0;32m----> <a href='vscode-notebook-cell:/Users/simon/Code/abstraction/bw_datalog.ipynb#ch0000014?line=6'>7</a>\u001b[0m check_traj(states, moves)\n",
      "\u001b[1;32m/Users/simon/Code/abstraction/bw_datalog.ipynb Cell 17'\u001b[0m in \u001b[0;36mcheck_traj\u001b[0;34m(states, moves)\u001b[0m\n\u001b[1;32m      <a href='vscode-notebook-cell:/Users/simon/Code/abstraction/bw_datalog.ipynb#ch0000015?line=2'>3</a>\u001b[0m abs_states \u001b[39m=\u001b[39m [abstractify_datalog(state) \u001b[39mfor\u001b[39;00m state \u001b[39min\u001b[39;00m states]\n\u001b[1;32m      <a href='vscode-notebook-cell:/Users/simon/Code/abstraction/bw_datalog.ipynb#ch0000015?line=3'>4</a>\u001b[0m \u001b[39mprint\u001b[39m(abs_states)\n\u001b[0;32m----> <a href='vscode-notebook-cell:/Users/simon/Code/abstraction/bw_datalog.ipynb#ch0000015?line=4'>5</a>\u001b[0m abs_moves \u001b[39m=\u001b[39m [(move[\u001b[39m0\u001b[39m]\u001b[39m.\u001b[39mlower(), ) \u001b[39mfor\u001b[39;00m move \u001b[39min\u001b[39;00m moves]\n\u001b[1;32m      <a href='vscode-notebook-cell:/Users/simon/Code/abstraction/bw_datalog.ipynb#ch0000015?line=5'>6</a>\u001b[0m \u001b[39mfor\u001b[39;00m i, (abs_state, abs_move) \u001b[39min\u001b[39;00m \u001b[39menumerate\u001b[39m(\u001b[39mzip\u001b[39m(abs_states, abs_moves)):\n\u001b[1;32m      <a href='vscode-notebook-cell:/Users/simon/Code/abstraction/bw_datalog.ipynb#ch0000015?line=6'>7</a>\u001b[0m     abs_state2 \u001b[39m=\u001b[39m transition_datalog(abs_state, abs_move)\n",
      "\u001b[1;32m/Users/simon/Code/abstraction/bw_datalog.ipynb Cell 17'\u001b[0m in \u001b[0;36m<listcomp>\u001b[0;34m(.0)\u001b[0m\n\u001b[1;32m      <a href='vscode-notebook-cell:/Users/simon/Code/abstraction/bw_datalog.ipynb#ch0000015?line=2'>3</a>\u001b[0m abs_states \u001b[39m=\u001b[39m [abstractify_datalog(state) \u001b[39mfor\u001b[39;00m state \u001b[39min\u001b[39;00m states]\n\u001b[1;32m      <a href='vscode-notebook-cell:/Users/simon/Code/abstraction/bw_datalog.ipynb#ch0000015?line=3'>4</a>\u001b[0m \u001b[39mprint\u001b[39m(abs_states)\n\u001b[0;32m----> <a href='vscode-notebook-cell:/Users/simon/Code/abstraction/bw_datalog.ipynb#ch0000015?line=4'>5</a>\u001b[0m abs_moves \u001b[39m=\u001b[39m [(move[\u001b[39m0\u001b[39;49m]\u001b[39m.\u001b[39mlower(), ) \u001b[39mfor\u001b[39;00m move \u001b[39min\u001b[39;00m moves]\n\u001b[1;32m      <a href='vscode-notebook-cell:/Users/simon/Code/abstraction/bw_datalog.ipynb#ch0000015?line=5'>6</a>\u001b[0m \u001b[39mfor\u001b[39;00m i, (abs_state, abs_move) \u001b[39min\u001b[39;00m \u001b[39menumerate\u001b[39m(\u001b[39mzip\u001b[39m(abs_states, abs_moves)):\n\u001b[1;32m      <a href='vscode-notebook-cell:/Users/simon/Code/abstraction/bw_datalog.ipynb#ch0000015?line=6'>7</a>\u001b[0m     abs_state2 \u001b[39m=\u001b[39m transition_datalog(abs_state, abs_move)\n",
      "\u001b[0;31mTypeError\u001b[0m: 'int' object is not subscriptable"
     ]
    }
   ],
   "source": [
    "env = bw.BoxWorldEnv()\n",
    "# trajs = [bw.generate_traj(env) for _ in range(10)]\n",
    "# for traj in trajs:\n",
    "    # states, moves = traj\n",
    "    # check_traj(states, moves)\n",
    "states, moves = bw.generate_traj(env)\n",
    "check_traj(states, moves)"
   ]
  },
  {
   "cell_type": "code",
   "execution_count": 64,
   "metadata": {},
   "outputs": [],
   "source": [
    "def check_traj(states, moves):\n",
    "    print(moves)\n",
    "    abs_states = [abstractify_datalog(state) for state in states]\n",
    "    print(abs_states)\n",
    "    abs_moves = [(move[0].lower(), ) for move in moves]\n",
    "    for i, (abs_state, abs_move) in enumerate(zip(abs_states, abs_moves)):\n",
    "        abs_state2 = transition_datalog(abs_state, abs_move)\n",
    "        # print(f'{abs_state2=}, {abs_states[i+1]=}')\n",
    "        assert_equal(abs_state2, abs_states[i+1])"
   ]
  },
  {
   "cell_type": "code",
   "execution_count": 58,
   "metadata": {},
   "outputs": [
    {
     "name": "stdout",
     "output_type": "stream",
     "text": [
      "['lN', '*L']\n",
      "['l*', 'nl', 'n', '.']\n",
      "['l*', '.']\n",
      "['.']\n",
      "[{'held_key': [('n',)], 'domino': [('l', '*'), ('n', 'l')]}, {'held_key': [('l',)], 'domino': [('l', '*')]}, {'held_key': [('*',)]}]\n",
      "removing fact held_key(('n',))\n",
      "removing fact domino(('n', 'l'))\n",
      "abs_state2={'held_key': [('l',)], 'domino': [('l', '*')]}, abs_states[i+1]={'held_key': [('l',)], 'domino': [('l', '*')]}\n",
      "removing fact held_key(('l',))\n",
      "removing fact domino(('l', '*'))\n",
      "abs_state2={'held_key': [('*',)]}, abs_states[i+1]={'held_key': [('*',)]}\n"
     ]
    }
   ],
   "source": [
    "check_traj(states, moves)"
   ]
  },
  {
   "cell_type": "code",
   "execution_count": null,
   "metadata": {},
   "outputs": [],
   "source": []
  },
  {
   "cell_type": "code",
   "execution_count": null,
   "metadata": {},
   "outputs": [],
   "source": []
  }
 ],
 "metadata": {
  "kernelspec": {
   "display_name": "Python 3.9.7 ('base')",
   "language": "python",
   "name": "python3"
  },
  "language_info": {
   "codemirror_mode": {
    "name": "ipython",
    "version": 3
   },
   "file_extension": ".py",
   "mimetype": "text/x-python",
   "name": "python",
   "nbconvert_exporter": "python",
   "pygments_lexer": "ipython3",
   "version": "3.9.7"
  },
  "orig_nbformat": 4,
  "vscode": {
   "interpreter": {
    "hash": "5171257a19229003dd5d26a2da83564f8b77e553c7bd58f03ad020368d79a5cf"
   }
  }
 },
 "nbformat": 4,
 "nbformat_minor": 2
}
