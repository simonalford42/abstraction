{
 "cells": [
  {
   "cell_type": "code",
   "execution_count": 1,
   "id": "8f362a92",
   "metadata": {},
   "outputs": [],
   "source": [
    "import gym\n",
    "from matplotlib import pyplot as plt"
   ]
  },
  {
   "cell_type": "code",
   "execution_count": 2,
   "id": "dcc7dd22",
   "metadata": {},
   "outputs": [],
   "source": [
    "import numpy as np"
   ]
  },
  {
   "cell_type": "code",
   "execution_count": 3,
   "id": "f1d25017",
   "metadata": {},
   "outputs": [],
   "source": [
    "from gym import envs"
   ]
  },
  {
   "cell_type": "code",
   "execution_count": 4,
   "id": "57985917",
   "metadata": {},
   "outputs": [],
   "source": [
    "import gym_boxworld"
   ]
  },
  {
   "cell_type": "code",
   "execution_count": 5,
   "id": "922845fd",
   "metadata": {},
   "outputs": [],
   "source": [
    "env_name = 'BoxRandWorld'\n",
    "env_id = env_name + 'NoFrameskip-v4'\n",
    "env = gym.make(env_id, level='easy')"
   ]
  },
  {
   "cell_type": "code",
   "execution_count": 6,
   "id": "9ae31a8b",
   "metadata": {},
   "outputs": [],
   "source": [
    "obs = env.reset()"
   ]
  },
  {
   "cell_type": "code",
   "execution_count": 7,
   "id": "29725008",
   "metadata": {},
   "outputs": [],
   "source": [
    "color_names = {'M': 'Magenta',\n",
    "          'Y': 'Yellow',\n",
    "          'C': 'Cyan',\n",
    "          'W': 'White',\n",
    "          'G': 'Green',\n",
    "          'R': 'Red',\n",
    "          'S': 'Salmon',\n",
    "          'P': 'Purple',\n",
    "          'B': 'Black',\n",
    "          'DG': 'Dark Grey',\n",
    "          'GR': 'Grey'\n",
    "         }"
   ]
  },
  {
   "cell_type": "code",
   "execution_count": 8,
   "id": "c61431c0",
   "metadata": {},
   "outputs": [],
   "source": [
    "path = [('M',), \n",
    "        ('M', 'Y'), \n",
    "        ('Y', 'G'),\n",
    "        ('G', 'R'),\n",
    "        ('R', 'W')]"
   ]
  },
  {
   "cell_type": "code",
   "execution_count": 9,
   "id": "fa3509ab",
   "metadata": {},
   "outputs": [],
   "source": [
    "colors = {'M': (255., 0., 255.),\n",
    "          'Y': (255., 255., 0.),\n",
    "          'C': (0., 255., 255.,),\n",
    "          'W': (255., 255., 255.),\n",
    "          'G': (0., 255., 0.),\n",
    "          'R': (255., 0., 0.),\n",
    "          'S': (255. , 127.5, 127.5),\n",
    "          'P': (127.5,   0. , 255.),\n",
    "          'B': (0., 0., 0.),\n",
    "          'DG': (105., 105., 105.),\n",
    "          'GR': (169., 169., 169.),\n",
    "         }\n",
    "\n",
    "rgb_to_color = {v: k for k, v in colors.items()}"
   ]
  },
  {
   "cell_type": "code",
   "execution_count": 10,
   "id": "bea0e6b1",
   "metadata": {},
   "outputs": [],
   "source": [
    "for y in range(len(obs)):\n",
    "    for x in range(len(obs[y])):\n",
    "        assert tuple(obs[x, y]) in colors.values(), f'not there {obs[x, y]}'"
   ]
  },
  {
   "cell_type": "code",
   "execution_count": 11,
   "id": "83c6aba8",
   "metadata": {},
   "outputs": [],
   "source": [
    "def to_color_obs(obs):\n",
    "    return np.array([[rgb_to_color[tuple(obs[y, x])] for x in range(len(obs[y]))] for y in range(len(obs))])"
   ]
  },
  {
   "cell_type": "code",
   "execution_count": 12,
   "id": "0d54815e",
   "metadata": {},
   "outputs": [],
   "source": [
    "color_obs = to_color_obs(obs)"
   ]
  },
  {
   "cell_type": "code",
   "execution_count": 13,
   "id": "424b24ca",
   "metadata": {},
   "outputs": [],
   "source": [
    "for c in colors.values(): assert c in obs"
   ]
  },
  {
   "cell_type": "code",
   "execution_count": 14,
   "id": "c41d475f",
   "metadata": {},
   "outputs": [],
   "source": [
    "def get_domino_position(obs, p):\n",
    "    for y in range(len(obs)):\n",
    "        for x in range(len(obs)):\n",
    "            if domino_matches(p, obs, y, x):\n",
    "                return y, x\n",
    "    return None"
   ]
  },
  {
   "cell_type": "code",
   "execution_count": 15,
   "id": "764ccd80",
   "metadata": {},
   "outputs": [],
   "source": [
    "def domino_matches(p, obs, y, x):\n",
    "    # matches at the last pixel of p, since that's where the key we want to pick up is.\n",
    "    try:\n",
    "        return (obs[y, x-len(p)] in ['B', 'GR', 'DG']\n",
    "                and obs[y, x+1] in ['B', 'GR', 'DG']\n",
    "                and np.array_equal(obs[y, x-len(p)+1:x+1], list(p[::-1])))\n",
    "    except IndexError:\n",
    "        return False"
   ]
  },
  {
   "cell_type": "code",
   "execution_count": 16,
   "id": "220eb080",
   "metadata": {},
   "outputs": [
    {
     "data": {
      "text/plain": [
       "[(7, 6), (9, 8), (1, 7), (7, 11), (5, 6)]"
      ]
     },
     "execution_count": 16,
     "metadata": {},
     "output_type": "execute_result"
    }
   ],
   "source": [
    "[get_domino_position(color_obs, p) for p in path]"
   ]
  },
  {
   "cell_type": "code",
   "execution_count": 17,
   "id": "6495c3fd",
   "metadata": {},
   "outputs": [
    {
     "data": {
      "text/plain": [
       "[('M',), ('M', 'Y'), ('Y', 'G'), ('G', 'R'), ('R', 'W')]"
      ]
     },
     "execution_count": 17,
     "metadata": {},
     "output_type": "execute_result"
    }
   ],
   "source": [
    "path"
   ]
  },
  {
   "cell_type": "code",
   "execution_count": 18,
   "id": "6bf81915",
   "metadata": {},
   "outputs": [],
   "source": [
    "def shortest_path(color_obs, goal):\n",
    "    # goal is coordinates\n",
    "    # start is assumed to be where grey dot is\n",
    "    start = tuple(np.argwhere(color_obs == 'DG')[0])\n",
    "    assert color_obs[start] == 'DG'\n",
    "    nodes, adj_matrix = make_graph(color_obs, goal)\n",
    "    return dijkstra(nodes, adj_matrix, start, goal)"
   ]
  },
  {
   "cell_type": "code",
   "execution_count": 19,
   "id": "9e641d36",
   "metadata": {},
   "outputs": [],
   "source": [
    "def make_graph(obs, goal):\n",
    "    # nodes that can be walked through:\n",
    "    # - \"self\" color (dark grey)\n",
    "    # - background color (grey)\n",
    "    # - target key color\n",
    "    nodes = {(y, x) for y in range(len(obs))\n",
    "                    for x in range(len(obs[y]))\n",
    "                    if (obs[y, x] in ['DG', 'GR']\n",
    "                        or (y, x) == goal)}\n",
    "    adj_matrix = {(y, x): {n2: 1 for n2 in [(y+1, x), (y-1, x), (y, x-1), (y, x+1)]\n",
    "                                 if n2 in nodes}\n",
    "                  for (y, x) in nodes}\n",
    "    \n",
    "    return nodes, adj_matrix"
   ]
  },
  {
   "cell_type": "code",
   "execution_count": 20,
   "id": "e7129d94",
   "metadata": {},
   "outputs": [],
   "source": [
    "def dijkstra(nodes, adj_matrix, start, goal):\n",
    "    distances = {n: float('inf') for n in nodes}\n",
    "    predecessors = {n: None for n in nodes}\n",
    "    distances[start] = 0\n",
    "    visited = set()\n",
    "    \n",
    "    def get_min_unvisited():\n",
    "        unvisited_dists = [(n, d) for (n, d) in distances.items() if n not in visited]\n",
    "        return min(unvisited_dists, key=lambda t: t[1])\n",
    "        \n",
    "    def get_path_to(node):\n",
    "        path = [node]\n",
    "        while path[-1] != start:\n",
    "            node = predecessors[node]\n",
    "            path.append(node)  \n",
    "        return path[::-1]\n",
    "    \n",
    "    while goal not in visited:\n",
    "        current, current_dist = get_min_unvisited()\n",
    "        \n",
    "        for neighbor, weight_from_current_to_neighbor in adj_matrix[current].items():\n",
    "            neighbor_dist = distances[neighbor]\n",
    "            alt_neighbor_dist = current_dist + weight_from_current_to_neighbor\n",
    "            if alt_neighbor_dist < neighbor_dist:\n",
    "                assert neighbor not in visited\n",
    "                distances[neighbor] = alt_neighbor_dist\n",
    "                predecessors[neighbor] = current\n",
    "                \n",
    "        visited.add(current)\n",
    "\n",
    "    return get_path_to(goal)"
   ]
  },
  {
   "cell_type": "code",
   "execution_count": 21,
   "id": "6d1b27d4",
   "metadata": {},
   "outputs": [
    {
     "data": {
      "text/plain": [
       "(7, 6)"
      ]
     },
     "execution_count": 21,
     "metadata": {},
     "output_type": "execute_result"
    }
   ],
   "source": [
    "get_domino_position(color_obs, path[0])"
   ]
  },
  {
   "cell_type": "code",
   "execution_count": 41,
   "id": "42f45f33",
   "metadata": {},
   "outputs": [
    {
     "data": {
      "image/png": "[encoded data removed]",
      "text/plain": [
       "<Figure size 432x288 with 1 Axes>"
      ]
     },
     "metadata": {
      "needs_background": "light"
     },
     "output_type": "display_data"
    }
   ],
   "source": [
    "env.reset()\n",
    "env.render()"
   ]
  },
  {
   "cell_type": "code",
   "execution_count": 44,
   "id": "6190f91f",
   "metadata": {},
   "outputs": [
    {
     "data": {
      "text/plain": [
       "(14, 14, 3)"
      ]
     },
     "execution_count": 44,
     "metadata": {},
     "output_type": "execute_result"
    }
   ],
   "source": [
    "obs = env.step(0)[0]\n",
    "obs.shape"
   ]
  },
  {
   "cell_type": "code",
   "execution_count": 38,
   "id": "5901fa45",
   "metadata": {},
   "outputs": [
    {
     "data": {
      "text/plain": [
       "('M',)"
      ]
     },
     "execution_count": 38,
     "metadata": {},
     "output_type": "execute_result"
    }
   ],
   "source": [
    "path[0]"
   ]
  },
  {
   "cell_type": "code",
   "execution_count": 24,
   "id": "809fb7e2",
   "metadata": {},
   "outputs": [],
   "source": [
    "s = shortest_path(color_obs, get_domino_position(color_obs, path[0]))"
   ]
  },
  {
   "cell_type": "code",
   "execution_count": 25,
   "id": "cccfa722",
   "metadata": {},
   "outputs": [
    {
     "data": {
      "text/plain": [
       "[(8, 10), (8, 9), (8, 8), (8, 7), (7, 7), (7, 6)]"
      ]
     },
     "execution_count": 25,
     "metadata": {},
     "output_type": "execute_result"
    }
   ],
   "source": [
    "s"
   ]
  },
  {
   "cell_type": "code",
   "execution_count": 26,
   "id": "f379d1aa",
   "metadata": {},
   "outputs": [],
   "source": [
    "def moves(path):\n",
    "    def tuple_diff(a, b):\n",
    "        return a[0] - b[0], a[1] - b[1]\n",
    "    \n",
    "    diffs = [tuple_diff(a, b) for a, b in zip(path[1:], path[:-1])]\n",
    "    def move(diff):\n",
    "        if diff == (0, 1):\n",
    "            return 3  # right\n",
    "        if diff == (0, -1):\n",
    "            return 2  # left\n",
    "        if diff == (1, 0):\n",
    "            return 1  # down  \n",
    "        if diff == (-1, 0):\n",
    "            return 0  # up\n",
    "        raise ValueError(f'unknown diff {diff}')\n",
    "    \n",
    "    return [move(d) for d in diffs]"
   ]
  },
  {
   "cell_type": "code",
   "execution_count": 27,
   "id": "9f253075",
   "metadata": {},
   "outputs": [
    {
     "data": {
      "text/plain": [
       "[2, 2, 2, 0, 2]"
      ]
     },
     "execution_count": 27,
     "metadata": {},
     "output_type": "execute_result"
    }
   ],
   "source": [
    "moves(s)"
   ]
  },
  {
   "cell_type": "code",
   "execution_count": 28,
   "id": "5df741d2",
   "metadata": {},
   "outputs": [],
   "source": [
    "def exec(moves, env):\n",
    "    for m in moves:\n",
    "        obs, _, done, _ = env.step(m)\n",
    "    return obs, done"
   ]
  },
  {
   "cell_type": "code",
   "execution_count": 29,
   "id": "806a2043",
   "metadata": {},
   "outputs": [
    {
     "data": {
      "text/plain": [
       "(array([[[255. ,   0. , 255. ],\n",
       "         [  0. ,   0. ,   0. ],\n",
       "         [  0. ,   0. ,   0. ],\n",
       "         [  0. ,   0. ,   0. ],\n",
       "         [  0. ,   0. ,   0. ],\n",
       "         [  0. ,   0. ,   0. ],\n",
       "         [  0. ,   0. ,   0. ],\n",
       "         [  0. ,   0. ,   0. ],\n",
       "         [  0. ,   0. ,   0. ],\n",
       "         [  0. ,   0. ,   0. ],\n",
       "         [  0. ,   0. ,   0. ],\n",
       "         [  0. ,   0. ,   0. ],\n",
       "         [  0. ,   0. ,   0. ],\n",
       "         [  0. ,   0. ,   0. ]],\n",
       " \n",
       "        [[  0. ,   0. ,   0. ],\n",
       "         [169. , 169. , 169. ],\n",
       "         [169. , 169. , 169. ],\n",
       "         [169. , 169. , 169. ],\n",
       "         [169. , 169. , 169. ],\n",
       "         [169. , 169. , 169. ],\n",
       "         [  0. , 255. ,   0. ],\n",
       "         [255. , 255. ,   0. ],\n",
       "         [169. , 169. , 169. ],\n",
       "         [169. , 169. , 169. ],\n",
       "         [169. , 169. , 169. ],\n",
       "         [169. , 169. , 169. ],\n",
       "         [169. , 169. , 169. ],\n",
       "         [  0. ,   0. ,   0. ]],\n",
       " \n",
       "        [[  0. ,   0. ,   0. ],\n",
       "         [169. , 169. , 169. ],\n",
       "         [169. , 169. , 169. ],\n",
       "         [169. , 169. , 169. ],\n",
       "         [169. , 169. , 169. ],\n",
       "         [169. , 169. , 169. ],\n",
       "         [169. , 169. , 169. ],\n",
       "         [169. , 169. , 169. ],\n",
       "         [169. , 169. , 169. ],\n",
       "         [169. , 169. , 169. ],\n",
       "         [169. , 169. , 169. ],\n",
       "         [169. , 169. , 169. ],\n",
       "         [169. , 169. , 169. ],\n",
       "         [  0. ,   0. ,   0. ]],\n",
       " \n",
       "        [[  0. ,   0. ,   0. ],\n",
       "         [169. , 169. , 169. ],\n",
       "         [169. , 169. , 169. ],\n",
       "         [169. , 169. , 169. ],\n",
       "         [169. , 169. , 169. ],\n",
       "         [169. , 169. , 169. ],\n",
       "         [169. , 169. , 169. ],\n",
       "         [169. , 169. , 169. ],\n",
       "         [169. , 169. , 169. ],\n",
       "         [169. , 169. , 169. ],\n",
       "         [169. , 169. , 169. ],\n",
       "         [169. , 169. , 169. ],\n",
       "         [169. , 169. , 169. ],\n",
       "         [  0. ,   0. ,   0. ]],\n",
       " \n",
       "        [[  0. ,   0. ,   0. ],\n",
       "         [169. , 169. , 169. ],\n",
       "         [169. , 169. , 169. ],\n",
       "         [169. , 169. , 169. ],\n",
       "         [  0. , 255. , 255. ],\n",
       "         [255. , 255. ,   0. ],\n",
       "         [169. , 169. , 169. ],\n",
       "         [169. , 169. , 169. ],\n",
       "         [169. , 169. , 169. ],\n",
       "         [169. , 169. , 169. ],\n",
       "         [169. , 169. , 169. ],\n",
       "         [169. , 169. , 169. ],\n",
       "         [169. , 169. , 169. ],\n",
       "         [  0. ,   0. ,   0. ]],\n",
       " \n",
       "        [[  0. ,   0. ,   0. ],\n",
       "         [169. , 169. , 169. ],\n",
       "         [169. , 169. , 169. ],\n",
       "         [169. , 169. , 169. ],\n",
       "         [169. , 169. , 169. ],\n",
       "         [255. , 255. , 255. ],\n",
       "         [255. ,   0. ,   0. ],\n",
       "         [169. , 169. , 169. ],\n",
       "         [169. , 169. , 169. ],\n",
       "         [169. , 169. , 169. ],\n",
       "         [169. , 169. , 169. ],\n",
       "         [169. , 169. , 169. ],\n",
       "         [169. , 169. , 169. ],\n",
       "         [  0. ,   0. ,   0. ]],\n",
       " \n",
       "        [[  0. ,   0. ,   0. ],\n",
       "         [169. , 169. , 169. ],\n",
       "         [169. , 169. , 169. ],\n",
       "         [169. , 169. , 169. ],\n",
       "         [169. , 169. , 169. ],\n",
       "         [169. , 169. , 169. ],\n",
       "         [169. , 169. , 169. ],\n",
       "         [169. , 169. , 169. ],\n",
       "         [169. , 169. , 169. ],\n",
       "         [169. , 169. , 169. ],\n",
       "         [169. , 169. , 169. ],\n",
       "         [169. , 169. , 169. ],\n",
       "         [169. , 169. , 169. ],\n",
       "         [  0. ,   0. ,   0. ]],\n",
       " \n",
       "        [[  0. ,   0. ,   0. ],\n",
       "         [169. , 169. , 169. ],\n",
       "         [169. , 169. , 169. ],\n",
       "         [169. , 169. , 169. ],\n",
       "         [169. , 169. , 169. ],\n",
       "         [169. , 169. , 169. ],\n",
       "         [105. , 105. , 105. ],\n",
       "         [169. , 169. , 169. ],\n",
       "         [169. , 169. , 169. ],\n",
       "         [169. , 169. , 169. ],\n",
       "         [255. ,   0. ,   0. ],\n",
       "         [  0. , 255. ,   0. ],\n",
       "         [169. , 169. , 169. ],\n",
       "         [  0. ,   0. ,   0. ]],\n",
       " \n",
       "        [[  0. ,   0. ,   0. ],\n",
       "         [169. , 169. , 169. ],\n",
       "         [169. , 169. , 169. ],\n",
       "         [169. , 169. , 169. ],\n",
       "         [169. , 169. , 169. ],\n",
       "         [169. , 169. , 169. ],\n",
       "         [169. , 169. , 169. ],\n",
       "         [169. , 169. , 169. ],\n",
       "         [169. , 169. , 169. ],\n",
       "         [169. , 169. , 169. ],\n",
       "         [169. , 169. , 169. ],\n",
       "         [169. , 169. , 169. ],\n",
       "         [169. , 169. , 169. ],\n",
       "         [  0. ,   0. ,   0. ]],\n",
       " \n",
       "        [[  0. ,   0. ,   0. ],\n",
       "         [169. , 169. , 169. ],\n",
       "         [169. , 169. , 169. ],\n",
       "         [169. , 169. , 169. ],\n",
       "         [169. , 169. , 169. ],\n",
       "         [169. , 169. , 169. ],\n",
       "         [169. , 169. , 169. ],\n",
       "         [255. , 255. ,   0. ],\n",
       "         [255. ,   0. , 255. ],\n",
       "         [169. , 169. , 169. ],\n",
       "         [255. , 127.5, 127.5],\n",
       "         [255. ,   0. ,   0. ],\n",
       "         [169. , 169. , 169. ],\n",
       "         [  0. ,   0. ,   0. ]],\n",
       " \n",
       "        [[  0. ,   0. ,   0. ],\n",
       "         [169. , 169. , 169. ],\n",
       "         [169. , 169. , 169. ],\n",
       "         [169. , 169. , 169. ],\n",
       "         [169. , 169. , 169. ],\n",
       "         [169. , 169. , 169. ],\n",
       "         [169. , 169. , 169. ],\n",
       "         [169. , 169. , 169. ],\n",
       "         [169. , 169. , 169. ],\n",
       "         [169. , 169. , 169. ],\n",
       "         [169. , 169. , 169. ],\n",
       "         [169. , 169. , 169. ],\n",
       "         [169. , 169. , 169. ],\n",
       "         [  0. ,   0. ,   0. ]],\n",
       " \n",
       "        [[  0. ,   0. ,   0. ],\n",
       "         [169. , 169. , 169. ],\n",
       "         [169. , 169. , 169. ],\n",
       "         [169. , 169. , 169. ],\n",
       "         [169. , 169. , 169. ],\n",
       "         [127.5,   0. , 255. ],\n",
       "         [255. ,   0. ,   0. ],\n",
       "         [169. , 169. , 169. ],\n",
       "         [169. , 169. , 169. ],\n",
       "         [169. , 169. , 169. ],\n",
       "         [169. , 169. , 169. ],\n",
       "         [169. , 169. , 169. ],\n",
       "         [169. , 169. , 169. ],\n",
       "         [  0. ,   0. ,   0. ]],\n",
       " \n",
       "        [[  0. ,   0. ,   0. ],\n",
       "         [169. , 169. , 169. ],\n",
       "         [169. , 169. , 169. ],\n",
       "         [169. , 169. , 169. ],\n",
       "         [169. , 169. , 169. ],\n",
       "         [169. , 169. , 169. ],\n",
       "         [169. , 169. , 169. ],\n",
       "         [169. , 169. , 169. ],\n",
       "         [169. , 169. , 169. ],\n",
       "         [169. , 169. , 169. ],\n",
       "         [169. , 169. , 169. ],\n",
       "         [169. , 169. , 169. ],\n",
       "         [169. , 169. , 169. ],\n",
       "         [  0. ,   0. ,   0. ]],\n",
       " \n",
       "        [[  0. ,   0. ,   0. ],\n",
       "         [  0. ,   0. ,   0. ],\n",
       "         [  0. ,   0. ,   0. ],\n",
       "         [  0. ,   0. ,   0. ],\n",
       "         [  0. ,   0. ,   0. ],\n",
       "         [  0. ,   0. ,   0. ],\n",
       "         [  0. ,   0. ,   0. ],\n",
       "         [  0. ,   0. ,   0. ],\n",
       "         [  0. ,   0. ,   0. ],\n",
       "         [  0. ,   0. ,   0. ],\n",
       "         [  0. ,   0. ,   0. ],\n",
       "         [  0. ,   0. ,   0. ],\n",
       "         [  0. ,   0. ,   0. ],\n",
       "         [  0. ,   0. ,   0. ]]], dtype=float32),\n",
       " False)"
      ]
     },
     "execution_count": 29,
     "metadata": {},
     "output_type": "execute_result"
    }
   ],
   "source": [
    "exec(moves(s), env)"
   ]
  },
  {
   "cell_type": "code",
   "execution_count": 30,
   "id": "fca82fec",
   "metadata": {},
   "outputs": [
    {
     "data": {
      "image/png": "[encoded data removed]",
      "text/plain": [
       "<Figure size 432x288 with 1 Axes>"
      ]
     },
     "metadata": {
      "needs_background": "light"
     },
     "output_type": "display_data"
    }
   ],
   "source": [
    "env.render()"
   ]
  },
  {
   "cell_type": "code",
   "execution_count": 31,
   "id": "5fabefa7",
   "metadata": {},
   "outputs": [
    {
     "ename": "IndentationError",
     "evalue": "expected an indented block (3265573092.py, line 13)",
     "output_type": "error",
     "traceback": [
      "\u001b[0;36m  File \u001b[0;32m\"/var/folders/p5/52jmynx13jdctdpd69bl3hjw0000gq/T/ipykernel_94627/3265573092.py\"\u001b[0;36m, line \u001b[0;32m13\u001b[0m\n\u001b[0;31m    else:\u001b[0m\n\u001b[0m    ^\u001b[0m\n\u001b[0;31mIndentationError\u001b[0m\u001b[0;31m:\u001b[0m expected an indented block\n"
     ]
    }
   ],
   "source": [
    "def test_solving():\n",
    "    obs = env.reset()\n",
    "    color_obs = to_color_obs(obs)\n",
    "    goals = [get_domino_position(color_obs, p) for p in path] \n",
    "    for goal in goals:\n",
    "        color_obs = to_color_obs(obs)\n",
    "        option = shortest_path(color_obs, goal)\n",
    "        #env.render()\n",
    "        #print(option)\n",
    "        obs, done = exec(moves(option), env)\n",
    "    if done:\n",
    "        # print('good')\n",
    "    else:\n",
    "        print('not done, bad')"
   ]
  },
  {
   "cell_type": "code",
   "execution_count": null,
   "id": "11ba6275",
   "metadata": {},
   "outputs": [
    {
     "name": "stdout",
     "output_type": "stream",
     "text": [
      "good\n",
      "good\n",
      "good\n",
      "good\n",
      "good\n",
      "good\n",
      "good\n",
      "good\n",
      "good\n",
      "good\n",
      "good\n",
      "good\n",
      "good\n",
      "good\n",
      "good\n",
      "good\n",
      "good\n",
      "good\n",
      "good\n",
      "good\n",
      "good\n",
      "good\n",
      "good\n",
      "good\n",
      "good\n",
      "good\n",
      "good\n",
      "good\n",
      "good\n",
      "good\n",
      "good\n",
      "good\n",
      "good\n",
      "good\n",
      "good\n",
      "good\n",
      "good\n",
      "good\n",
      "good\n",
      "good\n",
      "good\n",
      "good\n",
      "good\n",
      "good\n",
      "good\n",
      "good\n",
      "good\n",
      "good\n",
      "good\n",
      "good\n",
      "good\n",
      "good\n",
      "good\n",
      "good\n",
      "good\n",
      "good\n",
      "good\n",
      "good\n",
      "good\n",
      "good\n",
      "good\n",
      "good\n",
      "good\n",
      "good\n",
      "good\n",
      "good\n",
      "good\n",
      "good\n",
      "good\n",
      "good\n",
      "good\n",
      "good\n",
      "good\n",
      "good\n",
      "good\n",
      "good\n",
      "good\n",
      "good\n",
      "good\n",
      "good\n",
      "good\n",
      "good\n",
      "good\n",
      "good\n",
      "good\n",
      "good\n",
      "good\n",
      "good\n",
      "good\n",
      "good\n",
      "good\n",
      "good\n",
      "good\n",
      "good\n",
      "good\n",
      "good\n",
      "good\n",
      "good\n",
      "good\n",
      "good\n"
     ]
    }
   ],
   "source": [
    "for i in range(100): test_solving()"
   ]
  },
  {
   "cell_type": "code",
   "execution_count": null,
   "id": "0e57aa0b",
   "metadata": {},
   "outputs": [
    {
     "name": "stdout",
     "output_type": "stream",
     "text": [
      "[NbConvertApp] WARNING | pattern 'config_template.ipynb' matched no files\r\n",
      "This application is used to convert notebook files (*.ipynb) to various other\r\n",
      "formats.\r\n",
      "\r\n",
      "WARNING: THE COMMANDLINE INTERFACE MAY CHANGE IN FUTURE RELEASES.\r\n",
      "\r\n",
      "Options\r\n",
      "=======\r\n",
      "The options below are convenience aliases to configurable class-options,\r\n",
      "as listed in the \"Equivalent to\" description-line of the aliases.\r\n",
      "To see all configurable class-options for some <cmd>, use:\r\n",
      "    <cmd> --help-all\r\n",
      "\r\n",
      "--debug\r\n",
      "    set log level to logging.DEBUG (maximize logging output)\r\n",
      "    Equivalent to: [--Application.log_level=10]\r\n",
      "--show-config\r\n",
      "    Show the application's configuration (human-readable format)\r\n",
      "    Equivalent to: [--Application.show_config=True]\r\n",
      "--show-config-json\r\n",
      "    Show the application's configuration (json format)\r\n",
      "    Equivalent to: [--Application.show_config_json=True]\r\n",
      "--generate-config\r\n",
      "    generate default config file\r\n",
      "    Equivalent to: [--JupyterApp.generate_config=True]\r\n",
      "-y\r\n",
      "    Answer yes to any questions instead of prompting.\r\n",
      "    Equivalent to: [--JupyterApp.answer_yes=True]\r\n",
      "--execute\r\n",
      "    Execute the notebook prior to export.\r\n",
      "    Equivalent to: [--ExecutePreprocessor.enabled=True]\r\n",
      "--allow-errors\r\n",
      "    Continue notebook execution even if one of the cells throws an error and include the error message in the cell output (the default behaviour is to abort conversion). This flag is only relevant if '--execute' was specified, too.\r\n",
      "    Equivalent to: [--ExecutePreprocessor.allow_errors=True]\r\n",
      "--stdin\r\n",
      "    read a single notebook file from stdin. Write the resulting notebook with default basename 'notebook.*'\r\n",
      "    Equivalent to: [--NbConvertApp.from_stdin=True]\r\n",
      "--stdout\r\n",
      "    Write notebook output to stdout instead of files.\r\n",
      "    Equivalent to: [--NbConvertApp.writer_class=StdoutWriter]\r\n",
      "--inplace\r\n",
      "    Run nbconvert in place, overwriting the existing notebook (only \r\n",
      "    relevant when converting to notebook format)\r\n",
      "    Equivalent to: [--NbConvertApp.use_output_suffix=False --NbConvertApp.export_format=notebook --FilesWriter.build_directory=]\r\n",
      "--clear-output\r\n",
      "    Clear output of current file and save in place, \r\n",
      "    overwriting the existing notebook.\r\n",
      "    Equivalent to: [--NbConvertApp.use_output_suffix=False --NbConvertApp.export_format=notebook --FilesWriter.build_directory= --ClearOutputPreprocessor.enabled=True]\r\n",
      "--no-prompt\r\n",
      "    Exclude input and output prompts from converted document.\r\n",
      "    Equivalent to: [--TemplateExporter.exclude_input_prompt=True --TemplateExporter.exclude_output_prompt=True]\r\n",
      "--no-input\r\n",
      "    Exclude input cells and output prompts from converted document. \r\n",
      "    This mode is ideal for generating code-free reports.\r\n",
      "    Equivalent to: [--TemplateExporter.exclude_output_prompt=True --TemplateExporter.exclude_input=True --TemplateExporter.exclude_input_prompt=True]\r\n",
      "--allow-chromium-download\r\n",
      "    Whether to allow downloading chromium if no suitable version is found on the system.\r\n",
      "    Equivalent to: [--WebPDFExporter.allow_chromium_download=True]\r\n",
      "--disable-chromium-sandbox\r\n",
      "    Disable chromium security sandbox when converting to PDF..\r\n",
      "    Equivalent to: [--WebPDFExporter.disable_sandbox=True]\r\n",
      "--show-input\r\n",
      "    Shows code input. This is flag is only useful for dejavu users.\r\n",
      "    Equivalent to: [--TemplateExporter.exclude_input=False]\r\n",
      "--log-level=<Enum>\r\n",
      "    Set the log level by value or name.\r\n",
      "    Choices: any of [0, 10, 20, 30, 40, 50, 'DEBUG', 'INFO', 'WARN', 'ERROR', 'CRITICAL']\r\n",
      "    Default: 30\r\n",
      "    Equivalent to: [--Application.log_level]\r\n",
      "--config=<Unicode>\r\n",
      "    Full path of a config file.\r\n",
      "    Default: ''\r\n",
      "    Equivalent to: [--JupyterApp.config_file]\r\n",
      "--to=<Unicode>\r\n",
      "    The export format to be used, either one of the built-in formats ['custom',\r\n",
      "    'latex', 'notebook', 'pdf'] or a dotted object name that represents the\r\n",
      "    import path for an ``Exporter`` class\r\n",
      "    Default: ''\r\n",
      "    Equivalent to: [--NbConvertApp.export_format]\r\n",
      "--template=<Unicode>\r\n",
      "    Name of the template to use\r\n",
      "    Default: ''\r\n",
      "    Equivalent to: [--TemplateExporter.template_name]\r\n",
      "--template-file=<Unicode>\r\n",
      "    Name of the template file to use\r\n",
      "    Default: None\r\n",
      "    Equivalent to: [--TemplateExporter.template_file]\r\n",
      "--writer=<DottedObjectName>\r\n",
      "    Writer class used to write the  results of the conversion\r\n",
      "    Default: 'FilesWriter'\r\n",
      "    Equivalent to: [--NbConvertApp.writer_class]\r\n",
      "--post=<DottedOrNone>\r\n",
      "    PostProcessor class used to write the results of the conversion\r\n",
      "    Default: ''\r\n",
      "    Equivalent to: [--NbConvertApp.postprocessor_class]\r\n",
      "--output=<Unicode>\r\n",
      "    overwrite base name use for output files. can only be used when converting\r\n",
      "    one notebook at a time.\r\n",
      "    Default: ''\r\n",
      "    Equivalent to: [--NbConvertApp.output_base]\r\n",
      "--output-dir=<Unicode>\r\n",
      "    Directory to write output(s) to. Defaults to output to the directory of each\r\n",
      "    notebook. To recover previous default behaviour (outputting to the current\r\n",
      "    working directory) use . as the flag value.\r\n",
      "    Default: ''\r\n",
      "    Equivalent to: [--FilesWriter.build_directory]\r\n",
      "--reveal-prefix=<Unicode>\r\n",
      "    The URL prefix for reveal.js (version 3.x). This defaults to the reveal CDN,\r\n",
      "    but can be any url pointing to a copy  of reveal.js.\r\n",
      "    For speaker notes to work, this must be a relative path to a local  copy of\r\n",
      "    reveal.js: e.g., \"reveal.js\".\r\n",
      "    If a relative path is given, it must be a subdirectory of the current\r\n",
      "    directory (from which the server is run).\r\n",
      "    See the usage documentation\r\n",
      "    (https://nbconvert.readthedocs.io/en/latest/usage.html#reveal-js-html-\r\n",
      "    slideshow) for more details.\r\n",
      "    Default: ''\r\n",
      "    Equivalent to: [--SlidesExporter.reveal_url_prefix]\r\n",
      "--nbformat=<Enum>\r\n",
      "    The nbformat version to write. Use this to downgrade notebooks.\r\n",
      "    Choices: any of [1, 2, 3, 4]\r\n",
      "    Default: 4\r\n",
      "    Equivalent to: [--NotebookExporter.nbformat_version]\r\n",
      "\r\n",
      "Examples\r\n",
      "--------\r\n",
      "\r\n",
      "    The simplest way to use nbconvert is\r\n",
      "    \r\n",
      "    > jupyter nbconvert mynotebook.ipynb --to html\r\n",
      "    \r\n",
      "    Options include ['custom', 'latex', 'notebook', 'pdf'].\r\n",
      "    \r\n",
      "    > jupyter nbconvert --to latex mynotebook.ipynb\r\n",
      "    \r\n",
      "    Both HTML and LaTeX support multiple output templates. LaTeX includes\r\n",
      "    'base', 'article' and 'report'.  HTML includes 'basic' and 'full'. You\r\n",
      "    can specify the flavor of the format used.\r\n",
      "    \r\n",
      "    > jupyter nbconvert --to html --template lab mynotebook.ipynb\r\n",
      "    \r\n",
      "    You can also pipe the output to stdout, rather than a file\r\n",
      "    \r\n",
      "    > jupyter nbconvert mynotebook.ipynb --stdout\r\n",
      "    \r\n",
      "    PDF is generated via latex\r\n",
      "    \r\n",
      "    > jupyter nbconvert mynotebook.ipynb --to pdf\r\n",
      "    \r\n",
      "    You can get (and serve) a Reveal.js-powered slideshow\r\n",
      "    \r\n",
      "    > jupyter nbconvert myslides.ipynb --to slides --post serve\r\n",
      "    \r\n",
      "    Multiple notebooks can be given at the command line in a couple of \r\n",
      "    different ways:\r\n",
      "    \r\n",
      "    > jupyter nbconvert notebook*.ipynb\r\n",
      "    > jupyter nbconvert notebook1.ipynb notebook2.ipynb\r\n",
      "    \r\n",
      "    or you can specify the notebooks list in a config file, containing::\r\n",
      "    \r\n",
      "        c.NbConvertApp.notebooks = [\"my_notebook.ipynb\"]\r\n",
      "    \r\n",
      "    > jupyter nbconvert --config mycfg.py\r\n",
      "\r\n",
      "To see all available configurables, use `--help-all`.\r\n",
      "\r\n"
     ]
    }
   ],
   "source": [
    "!jupyter nbconvert --to script config_template.ipynb"
   ]
  },
  {
   "cell_type": "code",
   "execution_count": null,
   "id": "400108b1",
   "metadata": {},
   "outputs": [
    {
     "data": {
      "text/plain": [
       "array([[[  0. ,   0. ,   0. ],\n",
       "        [  0. ,   0. ,   0. ],\n",
       "        [  0. ,   0. ,   0. ],\n",
       "        [  0. ,   0. ,   0. ],\n",
       "        [  0. ,   0. ,   0. ],\n",
       "        [  0. ,   0. ,   0. ],\n",
       "        [  0. ,   0. ,   0. ],\n",
       "        [  0. ,   0. ,   0. ],\n",
       "        [  0. ,   0. ,   0. ],\n",
       "        [  0. ,   0. ,   0. ],\n",
       "        [  0. ,   0. ,   0. ],\n",
       "        [  0. ,   0. ,   0. ],\n",
       "        [  0. ,   0. ,   0. ],\n",
       "        [  0. ,   0. ,   0. ]],\n",
       "\n",
       "       [[  0. ,   0. ,   0. ],\n",
       "        [169. , 169. , 169. ],\n",
       "        [169. , 169. , 169. ],\n",
       "        [169. , 169. , 169. ],\n",
       "        [169. , 169. , 169. ],\n",
       "        [169. , 169. , 169. ],\n",
       "        [169. , 169. , 169. ],\n",
       "        [169. , 169. , 169. ],\n",
       "        [169. , 169. , 169. ],\n",
       "        [169. , 169. , 169. ],\n",
       "        [169. , 169. , 169. ],\n",
       "        [169. , 169. , 169. ],\n",
       "        [169. , 169. , 169. ],\n",
       "        [  0. ,   0. ,   0. ]],\n",
       "\n",
       "       [[  0. ,   0. ,   0. ],\n",
       "        [169. , 169. , 169. ],\n",
       "        [169. , 169. , 169. ],\n",
       "        [255. , 127.5, 127.5],\n",
       "        [255. ,   0. ,   0. ],\n",
       "        [169. , 169. , 169. ],\n",
       "        [169. , 169. , 169. ],\n",
       "        [169. , 169. , 169. ],\n",
       "        [169. , 169. , 169. ],\n",
       "        [169. , 169. , 169. ],\n",
       "        [169. , 169. , 169. ],\n",
       "        [169. , 169. , 169. ],\n",
       "        [169. , 169. , 169. ],\n",
       "        [  0. ,   0. ,   0. ]],\n",
       "\n",
       "       [[  0. ,   0. ,   0. ],\n",
       "        [169. , 169. , 169. ],\n",
       "        [169. , 169. , 169. ],\n",
       "        [105. , 105. , 105. ],\n",
       "        [169. , 169. , 169. ],\n",
       "        [169. , 169. , 169. ],\n",
       "        [169. , 169. , 169. ],\n",
       "        [169. , 169. , 169. ],\n",
       "        [169. , 169. , 169. ],\n",
       "        [169. , 169. , 169. ],\n",
       "        [169. , 169. , 169. ],\n",
       "        [169. , 169. , 169. ],\n",
       "        [169. , 169. , 169. ],\n",
       "        [  0. ,   0. ,   0. ]],\n",
       "\n",
       "       [[  0. ,   0. ,   0. ],\n",
       "        [169. , 169. , 169. ],\n",
       "        [  0. , 255. ,   0. ],\n",
       "        [255. , 255. ,   0. ],\n",
       "        [169. , 169. , 169. ],\n",
       "        [169. , 169. , 169. ],\n",
       "        [169. , 169. , 169. ],\n",
       "        [255. ,   0. ,   0. ],\n",
       "        [  0. , 255. ,   0. ],\n",
       "        [169. , 169. , 169. ],\n",
       "        [169. , 169. , 169. ],\n",
       "        [169. , 169. , 169. ],\n",
       "        [169. , 169. , 169. ],\n",
       "        [  0. ,   0. ,   0. ]],\n",
       "\n",
       "       [[  0. ,   0. ,   0. ],\n",
       "        [169. , 169. , 169. ],\n",
       "        [169. , 169. , 169. ],\n",
       "        [169. , 169. , 169. ],\n",
       "        [169. , 169. , 169. ],\n",
       "        [169. , 169. , 169. ],\n",
       "        [169. , 169. , 169. ],\n",
       "        [169. , 169. , 169. ],\n",
       "        [169. , 169. , 169. ],\n",
       "        [169. , 169. , 169. ],\n",
       "        [169. , 169. , 169. ],\n",
       "        [169. , 169. , 169. ],\n",
       "        [169. , 169. , 169. ],\n",
       "        [  0. ,   0. ,   0. ]],\n",
       "\n",
       "       [[  0. ,   0. ,   0. ],\n",
       "        [169. , 169. , 169. ],\n",
       "        [169. , 169. , 169. ],\n",
       "        [169. , 169. , 169. ],\n",
       "        [169. , 169. , 169. ],\n",
       "        [169. , 169. , 169. ],\n",
       "        [169. , 169. , 169. ],\n",
       "        [169. , 169. , 169. ],\n",
       "        [169. , 169. , 169. ],\n",
       "        [169. , 169. , 169. ],\n",
       "        [169. , 169. , 169. ],\n",
       "        [169. , 169. , 169. ],\n",
       "        [169. , 169. , 169. ],\n",
       "        [  0. ,   0. ,   0. ]],\n",
       "\n",
       "       [[  0. ,   0. ,   0. ],\n",
       "        [169. , 169. , 169. ],\n",
       "        [169. , 169. , 169. ],\n",
       "        [169. , 169. , 169. ],\n",
       "        [169. , 169. , 169. ],\n",
       "        [169. , 169. , 169. ],\n",
       "        [169. , 169. , 169. ],\n",
       "        [169. , 169. , 169. ],\n",
       "        [169. , 169. , 169. ],\n",
       "        [169. , 169. , 169. ],\n",
       "        [169. , 169. , 169. ],\n",
       "        [169. , 169. , 169. ],\n",
       "        [169. , 169. , 169. ],\n",
       "        [  0. ,   0. ,   0. ]],\n",
       "\n",
       "       [[  0. ,   0. ,   0. ],\n",
       "        [169. , 169. , 169. ],\n",
       "        [169. , 169. , 169. ],\n",
       "        [169. , 169. , 169. ],\n",
       "        [255. , 255. ,   0. ],\n",
       "        [255. ,   0. , 255. ],\n",
       "        [169. , 169. , 169. ],\n",
       "        [127.5,   0. , 255. ],\n",
       "        [255. ,   0. ,   0. ],\n",
       "        [169. , 169. , 169. ],\n",
       "        [169. , 169. , 169. ],\n",
       "        [169. , 169. , 169. ],\n",
       "        [169. , 169. , 169. ],\n",
       "        [  0. ,   0. ,   0. ]],\n",
       "\n",
       "       [[  0. ,   0. ,   0. ],\n",
       "        [169. , 169. , 169. ],\n",
       "        [169. , 169. , 169. ],\n",
       "        [255. ,   0. , 255. ],\n",
       "        [169. , 169. , 169. ],\n",
       "        [169. , 169. , 169. ],\n",
       "        [169. , 169. , 169. ],\n",
       "        [169. , 169. , 169. ],\n",
       "        [169. , 169. , 169. ],\n",
       "        [169. , 169. , 169. ],\n",
       "        [169. , 169. , 169. ],\n",
       "        [169. , 169. , 169. ],\n",
       "        [169. , 169. , 169. ],\n",
       "        [  0. ,   0. ,   0. ]],\n",
       "\n",
       "       [[  0. ,   0. ,   0. ],\n",
       "        [169. , 169. , 169. ],\n",
       "        [  0. , 255. , 255. ],\n",
       "        [255. , 255. ,   0. ],\n",
       "        [169. , 169. , 169. ],\n",
       "        [169. , 169. , 169. ],\n",
       "        [255. , 255. , 255. ],\n",
       "        [255. ,   0. ,   0. ],\n",
       "        [169. , 169. , 169. ],\n",
       "        [169. , 169. , 169. ],\n",
       "        [169. , 169. , 169. ],\n",
       "        [169. , 169. , 169. ],\n",
       "        [169. , 169. , 169. ],\n",
       "        [  0. ,   0. ,   0. ]],\n",
       "\n",
       "       [[  0. ,   0. ,   0. ],\n",
       "        [169. , 169. , 169. ],\n",
       "        [169. , 169. , 169. ],\n",
       "        [169. , 169. , 169. ],\n",
       "        [169. , 169. , 169. ],\n",
       "        [169. , 169. , 169. ],\n",
       "        [169. , 169. , 169. ],\n",
       "        [169. , 169. , 169. ],\n",
       "        [169. , 169. , 169. ],\n",
       "        [169. , 169. , 169. ],\n",
       "        [169. , 169. , 169. ],\n",
       "        [169. , 169. , 169. ],\n",
       "        [169. , 169. , 169. ],\n",
       "        [  0. ,   0. ,   0. ]],\n",
       "\n",
       "       [[  0. ,   0. ,   0. ],\n",
       "        [169. , 169. , 169. ],\n",
       "        [169. , 169. , 169. ],\n",
       "        [169. , 169. , 169. ],\n",
       "        [169. , 169. , 169. ],\n",
       "        [169. , 169. , 169. ],\n",
       "        [169. , 169. , 169. ],\n",
       "        [169. , 169. , 169. ],\n",
       "        [169. , 169. , 169. ],\n",
       "        [169. , 169. , 169. ],\n",
       "        [169. , 169. , 169. ],\n",
       "        [169. , 169. , 169. ],\n",
       "        [169. , 169. , 169. ],\n",
       "        [  0. ,   0. ,   0. ]],\n",
       "\n",
       "       [[  0. ,   0. ,   0. ],\n",
       "        [  0. ,   0. ,   0. ],\n",
       "        [  0. ,   0. ,   0. ],\n",
       "        [  0. ,   0. ,   0. ],\n",
       "        [  0. ,   0. ,   0. ],\n",
       "        [  0. ,   0. ,   0. ],\n",
       "        [  0. ,   0. ,   0. ],\n",
       "        [  0. ,   0. ,   0. ],\n",
       "        [  0. ,   0. ,   0. ],\n",
       "        [  0. ,   0. ,   0. ],\n",
       "        [  0. ,   0. ,   0. ],\n",
       "        [  0. ,   0. ,   0. ],\n",
       "        [  0. ,   0. ,   0. ],\n",
       "        [  0. ,   0. ,   0. ]]], dtype=float32)"
      ]
     },
     "execution_count": 35,
     "metadata": {},
     "output_type": "execute_result"
    }
   ],
   "source": [
    "obs"
   ]
  },
  {
   "cell_type": "code",
   "execution_count": null,
   "id": "d523ebb9",
   "metadata": {},
   "outputs": [
    {
     "name": "stderr",
     "output_type": "stream",
     "text": [
      "Clipping input data to the valid range for imshow with RGB data ([0..1] for floats or [0..255] for integers).\n"
     ]
    },
    {
     "data": {
      "text/plain": [
       "<matplotlib.image.AxesImage at 0x112330190>"
      ]
     },
     "execution_count": 36,
     "metadata": {},
     "output_type": "execute_result"
    },
    {
     "data": {
      "image/png": "[encoded data removed]",
      "text/plain": [
       "<Figure size 432x288 with 1 Axes>"
      ]
     },
     "metadata": {
      "needs_background": "light"
     },
     "output_type": "display_data"
    }
   ],
   "source": [
    "plt.imshow(obs)"
   ]
  },
  {
   "cell_type": "code",
   "execution_count": null,
   "id": "7eeb4434",
   "metadata": {},
   "outputs": [
    {
     "data": {
      "image/png": "[encoded data removed]",
      "text/plain": [
       "<Figure size 432x288 with 1 Axes>"
      ]
     },
     "metadata": {
      "needs_background": "light"
     },
     "output_type": "display_data"
    }
   ],
   "source": [
    "env.render()"
   ]
  },
  {
   "cell_type": "code",
   "execution_count": null,
   "id": "2ebdc5c5",
   "metadata": {},
   "outputs": [],
   "source": [
    "obs = env.reset()"
   ]
  },
  {
   "cell_type": "code",
   "execution_count": null,
   "id": "b4c74250",
   "metadata": {},
   "outputs": [
    {
     "data": {
      "image/png": "[encoded data removed]",
      "text/plain": [
       "<Figure size 432x288 with 1 Axes>"
      ]
     },
     "metadata": {
      "needs_background": "light"
     },
     "output_type": "display_data"
    }
   ],
   "source": [
    "env.render()"
   ]
  },
  {
   "cell_type": "code",
   "execution_count": null,
   "id": "749a1c9d",
   "metadata": {},
   "outputs": [
    {
     "name": "stderr",
     "output_type": "stream",
     "text": [
      "Clipping input data to the valid range for imshow with RGB data ([0..1] for floats or [0..255] for integers).\n"
     ]
    },
    {
     "data": {
      "text/plain": [
       "<matplotlib.image.AxesImage at 0x1124c7c10>"
      ]
     },
     "execution_count": 40,
     "metadata": {},
     "output_type": "execute_result"
    },
    {
     "data": {
      "image/png": "[encoded data removed]",
      "text/plain": [
       "<Figure size 432x288 with 1 Axes>"
      ]
     },
     "metadata": {
      "needs_background": "light"
     },
     "output_type": "display_data"
    }
   ],
   "source": [
    "plt.imshow(obs)"
   ]
  },
  {
   "cell_type": "code",
   "execution_count": null,
   "id": "ff448d21",
   "metadata": {},
   "outputs": [
    {
     "data": {
      "text/plain": [
       "(14, 14, 3)"
      ]
     },
     "execution_count": 41,
     "metadata": {},
     "output_type": "execute_result"
    }
   ],
   "source": [
    "obs.shape"
   ]
  },
  {
   "cell_type": "code",
   "execution_count": null,
   "id": "20fc8446",
   "metadata": {},
   "outputs": [
    {
     "data": {
      "text/plain": [
       "array([[[  0. ,   0. ,   0. ],\n",
       "        [  0. ,   0. ,   0. ],\n",
       "        [  0. ,   0. ,   0. ],\n",
       "        [  0. ,   0. ,   0. ],\n",
       "        [  0. ,   0. ,   0. ],\n",
       "        [  0. ,   0. ,   0. ],\n",
       "        [  0. ,   0. ,   0. ],\n",
       "        [  0. ,   0. ,   0. ],\n",
       "        [  0. ,   0. ,   0. ],\n",
       "        [  0. ,   0. ,   0. ],\n",
       "        [  0. ,   0. ,   0. ],\n",
       "        [  0. ,   0. ,   0. ],\n",
       "        [  0. ,   0. ,   0. ],\n",
       "        [  0. ,   0. ,   0. ]],\n",
       "\n",
       "       [[  0. ,   0. ,   0. ],\n",
       "        [169. , 169. , 169. ],\n",
       "        [169. , 169. , 169. ],\n",
       "        [169. , 169. , 169. ],\n",
       "        [169. , 169. , 169. ],\n",
       "        [169. , 169. , 169. ],\n",
       "        [169. , 169. , 169. ],\n",
       "        [169. , 169. , 169. ],\n",
       "        [255. , 127.5, 127.5],\n",
       "        [255. ,   0. ,   0. ],\n",
       "        [169. , 169. , 169. ],\n",
       "        [169. , 169. , 169. ],\n",
       "        [169. , 169. , 169. ],\n",
       "        [  0. ,   0. ,   0. ]],\n",
       "\n",
       "       [[  0. ,   0. ,   0. ],\n",
       "        [169. , 169. , 169. ],\n",
       "        [169. , 169. , 169. ],\n",
       "        [169. , 169. , 169. ],\n",
       "        [169. , 169. , 169. ],\n",
       "        [169. , 169. , 169. ],\n",
       "        [169. , 169. , 169. ],\n",
       "        [105. , 105. , 105. ],\n",
       "        [169. , 169. , 169. ],\n",
       "        [169. , 169. , 169. ],\n",
       "        [169. , 169. , 169. ],\n",
       "        [169. , 169. , 169. ],\n",
       "        [169. , 169. , 169. ],\n",
       "        [  0. ,   0. ,   0. ]],\n",
       "\n",
       "       [[  0. ,   0. ,   0. ],\n",
       "        [169. , 169. , 169. ],\n",
       "        [169. , 169. , 169. ],\n",
       "        [169. , 169. , 169. ],\n",
       "        [169. , 169. , 169. ],\n",
       "        [169. , 169. , 169. ],\n",
       "        [169. , 169. , 169. ],\n",
       "        [169. , 169. , 169. ],\n",
       "        [169. , 169. , 169. ],\n",
       "        [127.5,   0. , 255. ],\n",
       "        [255. ,   0. ,   0. ],\n",
       "        [169. , 169. , 169. ],\n",
       "        [169. , 169. , 169. ],\n",
       "        [  0. ,   0. ,   0. ]],\n",
       "\n",
       "       [[  0. ,   0. ,   0. ],\n",
       "        [169. , 169. , 169. ],\n",
       "        [169. , 169. , 169. ],\n",
       "        [255. , 255. , 255. ],\n",
       "        [255. ,   0. ,   0. ],\n",
       "        [169. , 169. , 169. ],\n",
       "        [169. , 169. , 169. ],\n",
       "        [169. , 169. , 169. ],\n",
       "        [169. , 169. , 169. ],\n",
       "        [169. , 169. , 169. ],\n",
       "        [169. , 169. , 169. ],\n",
       "        [169. , 169. , 169. ],\n",
       "        [169. , 169. , 169. ],\n",
       "        [  0. ,   0. ,   0. ]],\n",
       "\n",
       "       [[  0. ,   0. ,   0. ],\n",
       "        [169. , 169. , 169. ],\n",
       "        [169. , 169. , 169. ],\n",
       "        [169. , 169. , 169. ],\n",
       "        [169. , 169. , 169. ],\n",
       "        [169. , 169. , 169. ],\n",
       "        [169. , 169. , 169. ],\n",
       "        [169. , 169. , 169. ],\n",
       "        [169. , 169. , 169. ],\n",
       "        [169. , 169. , 169. ],\n",
       "        [169. , 169. , 169. ],\n",
       "        [169. , 169. , 169. ],\n",
       "        [169. , 169. , 169. ],\n",
       "        [  0. ,   0. ,   0. ]],\n",
       "\n",
       "       [[  0. ,   0. ,   0. ],\n",
       "        [169. , 169. , 169. ],\n",
       "        [169. , 169. , 169. ],\n",
       "        [169. , 169. , 169. ],\n",
       "        [169. , 169. , 169. ],\n",
       "        [169. , 169. , 169. ],\n",
       "        [169. , 169. , 169. ],\n",
       "        [255. , 255. ,   0. ],\n",
       "        [255. ,   0. , 255. ],\n",
       "        [169. , 169. , 169. ],\n",
       "        [169. , 169. , 169. ],\n",
       "        [169. , 169. , 169. ],\n",
       "        [169. , 169. , 169. ],\n",
       "        [  0. ,   0. ,   0. ]],\n",
       "\n",
       "       [[  0. ,   0. ,   0. ],\n",
       "        [169. , 169. , 169. ],\n",
       "        [169. , 169. , 169. ],\n",
       "        [169. , 169. , 169. ],\n",
       "        [169. , 169. , 169. ],\n",
       "        [  0. , 255. , 255. ],\n",
       "        [255. , 255. ,   0. ],\n",
       "        [169. , 169. , 169. ],\n",
       "        [169. , 169. , 169. ],\n",
       "        [169. , 169. , 169. ],\n",
       "        [169. , 169. , 169. ],\n",
       "        [169. , 169. , 169. ],\n",
       "        [169. , 169. , 169. ],\n",
       "        [  0. ,   0. ,   0. ]],\n",
       "\n",
       "       [[  0. ,   0. ,   0. ],\n",
       "        [169. , 169. , 169. ],\n",
       "        [169. , 169. , 169. ],\n",
       "        [169. , 169. , 169. ],\n",
       "        [169. , 169. , 169. ],\n",
       "        [169. , 169. , 169. ],\n",
       "        [169. , 169. , 169. ],\n",
       "        [169. , 169. , 169. ],\n",
       "        [169. , 169. , 169. ],\n",
       "        [169. , 169. , 169. ],\n",
       "        [169. , 169. , 169. ],\n",
       "        [169. , 169. , 169. ],\n",
       "        [169. , 169. , 169. ],\n",
       "        [  0. ,   0. ,   0. ]],\n",
       "\n",
       "       [[  0. ,   0. ,   0. ],\n",
       "        [169. , 169. , 169. ],\n",
       "        [169. , 169. , 169. ],\n",
       "        [255. ,   0. ,   0. ],\n",
       "        [  0. , 255. ,   0. ],\n",
       "        [169. , 169. , 169. ],\n",
       "        [169. , 169. , 169. ],\n",
       "        [169. , 169. , 169. ],\n",
       "        [169. , 169. , 169. ],\n",
       "        [169. , 169. , 169. ],\n",
       "        [169. , 169. , 169. ],\n",
       "        [169. , 169. , 169. ],\n",
       "        [169. , 169. , 169. ],\n",
       "        [  0. ,   0. ,   0. ]],\n",
       "\n",
       "       [[  0. ,   0. ,   0. ],\n",
       "        [169. , 169. , 169. ],\n",
       "        [169. , 169. , 169. ],\n",
       "        [169. , 169. , 169. ],\n",
       "        [169. , 169. , 169. ],\n",
       "        [255. ,   0. , 255. ],\n",
       "        [169. , 169. , 169. ],\n",
       "        [  0. , 255. ,   0. ],\n",
       "        [255. , 255. ,   0. ],\n",
       "        [169. , 169. , 169. ],\n",
       "        [169. , 169. , 169. ],\n",
       "        [169. , 169. , 169. ],\n",
       "        [169. , 169. , 169. ],\n",
       "        [  0. ,   0. ,   0. ]],\n",
       "\n",
       "       [[  0. ,   0. ,   0. ],\n",
       "        [169. , 169. , 169. ],\n",
       "        [169. , 169. , 169. ],\n",
       "        [169. , 169. , 169. ],\n",
       "        [169. , 169. , 169. ],\n",
       "        [169. , 169. , 169. ],\n",
       "        [169. , 169. , 169. ],\n",
       "        [169. , 169. , 169. ],\n",
       "        [169. , 169. , 169. ],\n",
       "        [169. , 169. , 169. ],\n",
       "        [169. , 169. , 169. ],\n",
       "        [169. , 169. , 169. ],\n",
       "        [169. , 169. , 169. ],\n",
       "        [  0. ,   0. ,   0. ]],\n",
       "\n",
       "       [[  0. ,   0. ,   0. ],\n",
       "        [169. , 169. , 169. ],\n",
       "        [169. , 169. , 169. ],\n",
       "        [169. , 169. , 169. ],\n",
       "        [169. , 169. , 169. ],\n",
       "        [169. , 169. , 169. ],\n",
       "        [169. , 169. , 169. ],\n",
       "        [169. , 169. , 169. ],\n",
       "        [169. , 169. , 169. ],\n",
       "        [169. , 169. , 169. ],\n",
       "        [169. , 169. , 169. ],\n",
       "        [169. , 169. , 169. ],\n",
       "        [169. , 169. , 169. ],\n",
       "        [  0. ,   0. ,   0. ]],\n",
       "\n",
       "       [[  0. ,   0. ,   0. ],\n",
       "        [  0. ,   0. ,   0. ],\n",
       "        [  0. ,   0. ,   0. ],\n",
       "        [  0. ,   0. ,   0. ],\n",
       "        [  0. ,   0. ,   0. ],\n",
       "        [  0. ,   0. ,   0. ],\n",
       "        [  0. ,   0. ,   0. ],\n",
       "        [  0. ,   0. ,   0. ],\n",
       "        [  0. ,   0. ,   0. ],\n",
       "        [  0. ,   0. ,   0. ],\n",
       "        [  0. ,   0. ,   0. ],\n",
       "        [  0. ,   0. ,   0. ],\n",
       "        [  0. ,   0. ,   0. ],\n",
       "        [  0. ,   0. ,   0. ]]], dtype=float32)"
      ]
     },
     "execution_count": 42,
     "metadata": {},
     "output_type": "execute_result"
    }
   ],
   "source": [
    "obs"
   ]
  },
  {
   "cell_type": "code",
   "execution_count": null,
   "id": "c0ce98ca",
   "metadata": {},
   "outputs": [],
   "source": [
    "obs2 = [[obs[i][j]/255. for j in range(len(obs[i]))] for i in range(len(obs))]"
   ]
  },
  {
   "cell_type": "code",
   "execution_count": 46,
   "id": "6943ceba",
   "metadata": {},
   "outputs": [
    {
     "data": {
      "text/plain": [
       "<matplotlib.image.AxesImage at 0x1124e1250>"
      ]
     },
     "execution_count": 46,
     "metadata": {},
     "output_type": "execute_result"
    },
    {
     "data": {
      "image/png": "[encoded data removed]",
      "text/plain": [
       "<Figure size 432x288 with 1 Axes>"
      ]
     },
     "metadata": {
      "needs_background": "light"
     },
     "output_type": "display_data"
    }
   ],
   "source": [
    "plt.imshow(obs2)"
   ]
  },
  {
   "cell_type": "code",
   "execution_count": null,
   "id": "48821ef5",
   "metadata": {},
   "outputs": [],
   "source": []
  }
 ],
 "metadata": {
  "kernelspec": {
   "display_name": "Python 3",
   "language": "python",
   "name": "python3"
  },
  "language_info": {
   "codemirror_mode": {
    "name": "ipython",
    "version": 3
   },
   "file_extension": ".py",
   "mimetype": "text/x-python",
   "name": "python",
   "nbconvert_exporter": "python",
   "pygments_lexer": "ipython3",
   "version": "3.9.7"
  }
 },
 "nbformat": 4,
 "nbformat_minor": 5
}
